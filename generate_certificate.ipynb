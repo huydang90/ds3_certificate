{
 "cells": [
  {
   "cell_type": "code",
   "execution_count": 1,
   "id": "036e875c-3dcf-46bf-9f54-206bda65e860",
   "metadata": {},
   "outputs": [],
   "source": [
    "from PIL import Image, ImageDraw, ImageFont\n",
    "import pandas as pd\n",
    "import os"
   ]
  },
  {
   "cell_type": "code",
   "execution_count": 8,
   "id": "cb68cb24-a085-4c56-80bc-a21fb73b71b0",
   "metadata": {},
   "outputs": [],
   "source": [
    "df = pd.read_csv('all.csv')\n",
    "font = ImageFont.truetype('LibreBaskerville-Italic.ttf',60)\n",
    "W, H = (1600,900)\n",
    "for index,j in df.iterrows():\n",
    "    img = Image.open('cert.jpg')\n",
    "    draw = ImageDraw.Draw(img)\n",
    "    msg = j['name']\n",
    "#     draw.text(xy=(725,760),text='{}'.format(j['name']),fill=(0,0,0),font=font)\n",
    "    w, h = draw.textsize(msg)\n",
    "    draw.text(((W-w)/2,(H-h)/2), msg, fill=(235, 165, 34), font=font)\n",
    "    img.save(f'cert/{msg}.jpg')"
   ]
  }
 ],
 "metadata": {
  "kernelspec": {
   "display_name": "Python 3",
   "language": "python",
   "name": "python3"
  },
  "language_info": {
   "codemirror_mode": {
    "name": "ipython",
    "version": 3
   },
   "file_extension": ".py",
   "mimetype": "text/x-python",
   "name": "python",
   "nbconvert_exporter": "python",
   "pygments_lexer": "ipython3",
   "version": "3.8.6"
  }
 },
 "nbformat": 4,
 "nbformat_minor": 5
}
