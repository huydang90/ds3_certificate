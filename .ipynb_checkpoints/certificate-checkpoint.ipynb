{
 "cells": [
  {
   "cell_type": "code",
   "execution_count": 1,
   "id": "036e875c-3dcf-46bf-9f54-206bda65e860",
   "metadata": {},
   "outputs": [],
   "source": [
    "from PIL import Image, ImageDraw, ImageFont\n",
    "import pandas as pd\n",
    "import os\n",
    "\n",
    "df = pd.read_csv('all.csv')\n",
    "font = ImageFont.truetype('LibreBaskerville-Italic.ttf',60)\n",
    "W, H = (1600,900)\n",
    "for index,j in df.iterrows():\n",
    "    img = Image.open('cert.jpg')\n",
    "    draw = ImageDraw.Draw(img)\n",
    "    msg = j['name']\n",
    "    # figure out the right positioning\n",
    "    w, h = draw.textsize(msg)\n",
    "    draw.text(((W-w)/2,(H-h)/2), msg, fill=(235, 165, 34), font=font)\n",
    "    img.save(f'cert/{msg}.jpg')"
   ]
  },
  {
   "cell_type": "code",
   "execution_count": null,
   "id": "1c2e0eef-e4dc-4f69-a488-2bce6f5cd78c",
   "metadata": {},
   "outputs": [],
   "source": [
    "from PIL import Image, ImageDraw, ImageFont\n",
    "import pandas as pd\n",
    "import os\n",
    "\n",
    "df = pd.read_csv('all.csv')\n",
    "user = input('What is your name?')\n",
    "# user = \"Constance\"\n",
    "# if user in df.name: \n",
    "#     print(\"exist\")    \n",
    "\n",
    "# Konstantin Bogatyrev\n",
    "font = ImageFont.truetype('LibreBaskerville-Italic.ttf',60)\n",
    "W, H = (1000,900)\n",
    "img = Image.open('cert.jpg')\n",
    "draw = ImageDraw.Draw(img)\n",
    "msg = user\n",
    "# figure out the right positioning\n",
    "w, h = draw.textsize(msg)\n",
    "draw.text(((W-w)/2,(H-h)/2), msg, fill=(235, 165, 34), font=font)\n",
    "display(img)\n",
    "\n",
    "# for index,j in df.iterrows():\n",
    "#     img = Image.open('cert.jpg')\n",
    "#     draw = ImageDraw.Draw(img)\n",
    "#     msg = j['name']\n",
    "#     # figure out the right positioning\n",
    "#     w, h = draw.textsize(msg)\n",
    "#     draw.text(((W-w)/2,(H-h)/2), msg, fill=(235, 165, 34), font=font)\n",
    "#     img.save(f'cert/{msg}.jpg')"
   ]
  },
  {
   "cell_type": "code",
   "execution_count": null,
   "id": "bd9419b8-682d-4741-a80f-050fc7cc48d4",
   "metadata": {},
   "outputs": [],
   "source": []
  }
 ],
 "metadata": {
  "kernelspec": {
   "display_name": "Python 3",
   "language": "python",
   "name": "python3"
  },
  "language_info": {
   "codemirror_mode": {
    "name": "ipython",
    "version": 3
   },
   "file_extension": ".py",
   "mimetype": "text/x-python",
   "name": "python",
   "nbconvert_exporter": "python",
   "pygments_lexer": "ipython3",
   "version": "3.8.6"
  }
 },
 "nbformat": 4,
 "nbformat_minor": 5
}
